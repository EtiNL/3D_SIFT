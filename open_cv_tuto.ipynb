{
 "cells": [
  {
   "cell_type": "code",
   "execution_count": 1,
   "id": "2b6f16f5",
   "metadata": {},
   "outputs": [],
   "source": [
    "import cv2 as cv\n",
    "import sys\n",
    "import os\n",
    "import numpy as np"
   ]
  },
  {
   "cell_type": "markdown",
   "id": "2d85b928",
   "metadata": {},
   "source": [
    "lien du tuto:  \n",
    "https://docs.opencv.org/4.x/d6/d00/tutorial_py_root.html"
   ]
  },
  {
   "cell_type": "markdown",
   "id": "0c11d207",
   "metadata": {},
   "source": [
    "# Gui Features in OpenCV"
   ]
  },
  {
   "cell_type": "markdown",
   "id": "97ca9e66",
   "metadata": {},
   "source": [
    "## Getting started with images"
   ]
  },
  {
   "cell_type": "code",
   "execution_count": 9,
   "id": "9469c03e",
   "metadata": {},
   "outputs": [],
   "source": [
    "img = cv.imread('raw_data/Starry_night.jpg')\n",
    "if img is None:\n",
    "    sys.exit(\"Could not read the image.\")\n",
    "cv.imshow(\"Display window\", img)\n",
    "k = cv.waitKey(0)\n",
    "if k == ord(\"s\"):\n",
    "    cv.imwrite(\"starry_night.png\", img)\n",
    "    cv.destroyAllWindows()\n",
    "if k == ord('q'):\n",
    "    cv.destroyAllWindows()"
   ]
  },
  {
   "cell_type": "markdown",
   "id": "28f48f3e",
   "metadata": {
    "heading_collapsed": true
   },
   "source": [
    "## Getting started with videos"
   ]
  },
  {
   "cell_type": "markdown",
   "id": "5a22a318",
   "metadata": {
    "heading_collapsed": true,
    "hidden": true
   },
   "source": [
    "### Capture Video from Camera"
   ]
  },
  {
   "cell_type": "code",
   "execution_count": 3,
   "id": "f28b3b96",
   "metadata": {
    "hidden": true
   },
   "outputs": [],
   "source": [
    "# cap = cv.VideoCapture(0)\n",
    "# if not cap.isOpened():\n",
    "#     print(\"Cannot open camera\")\n",
    "#     exit()\n",
    "# while True:\n",
    "#     # Capture frame-by-frame\n",
    "#     ret, frame = cap.read()\n",
    "#     # if frame is read correctly ret is True\n",
    "#     if not ret:\n",
    "#         print(\"Can't receive frame (stream end?). Exiting ...\")\n",
    "#         break\n",
    "#     # Our operations on the frame come here\n",
    "#     gray = cv.cvtColor(frame, cv.COLOR_BGR2GRAY)\n",
    "#     # Display the resulting frame\n",
    "#     cv.imshow('frame', gray)\n",
    "#     if cv.waitKey(1) == ord('q'):\n",
    "#         break\n",
    "# # When everything done, release the capture\n",
    "# cap.release()\n",
    "# cv.destroyAllWindows()"
   ]
  },
  {
   "cell_type": "markdown",
   "id": "57197c9b",
   "metadata": {
    "heading_collapsed": true,
    "hidden": true
   },
   "source": [
    "### Playing Video from file"
   ]
  },
  {
   "cell_type": "code",
   "execution_count": 8,
   "id": "7924b6b6",
   "metadata": {
    "hidden": true
   },
   "outputs": [],
   "source": [
    "# cap = cv.VideoCapture('raw_data/Strip_club.MOV')\n",
    "# while cap.isOpened():\n",
    "#     ret, frame = cap.read()\n",
    "#     # if frame is read correctly ret is True\n",
    "#     if not ret:\n",
    "#         print(\"Can't receive frame (stream end?). Exiting ...\")\n",
    "#         break\n",
    "#     gray = cv.cvtColor(frame, cv.COLOR_BGR2GRAY)\n",
    "#     cv.imshow('frame', gray)\n",
    "#     if cv.waitKey(25) == ord('q'):\n",
    "#         break\n",
    "# cap.release()\n",
    "# cv.destroyAllWindows()"
   ]
  },
  {
   "cell_type": "markdown",
   "id": "b7debd19",
   "metadata": {
    "heading_collapsed": true
   },
   "source": [
    "## Drawing Functions in OpenCV"
   ]
  },
  {
   "cell_type": "markdown",
   "id": "cd688a76",
   "metadata": {
    "hidden": true
   },
   "source": [
    "### Drawing line "
   ]
  },
  {
   "cell_type": "code",
   "execution_count": 16,
   "id": "4d174392",
   "metadata": {
    "hidden": true
   },
   "outputs": [],
   "source": [
    "# Create a black image\n",
    "img = np.zeros((512,512,3), np.uint8)\n",
    "# Draw a diagonal blue line with thickness of 5 px\n",
    "cv.line(img,(0,0),(511,511),(255,0,0),5)\n",
    "\n",
    "\n",
    "# cv.imshow(\"Display window\", img)\n",
    "# k = cv.waitKey(0)\n",
    "# if k == ord(\"s\"):\n",
    "#     cv.imwrite(\"starry_night.png\", img)\n",
    "#     cv.destroyAllWindows()\n",
    "# if k == ord('q'):\n",
    "#     cv.destroyAllWindows()"
   ]
  },
  {
   "cell_type": "markdown",
   "id": "2d4b4dd0",
   "metadata": {
    "hidden": true
   },
   "source": [
    "### Drawing rectangle"
   ]
  },
  {
   "cell_type": "code",
   "execution_count": 17,
   "id": "b63a4ab7",
   "metadata": {
    "collapsed": true,
    "hidden": true
   },
   "outputs": [
    {
     "data": {
      "text/plain": [
       "array([[[255,   0,   0],\n",
       "        [255,   0,   0],\n",
       "        [255,   0,   0],\n",
       "        ...,\n",
       "        [  0, 255,   0],\n",
       "        [  0, 255,   0],\n",
       "        [  0, 255,   0]],\n",
       "\n",
       "       [[255,   0,   0],\n",
       "        [255,   0,   0],\n",
       "        [255,   0,   0],\n",
       "        ...,\n",
       "        [  0, 255,   0],\n",
       "        [  0, 255,   0],\n",
       "        [  0, 255,   0]],\n",
       "\n",
       "       [[255,   0,   0],\n",
       "        [255,   0,   0],\n",
       "        [255,   0,   0],\n",
       "        ...,\n",
       "        [  0, 255,   0],\n",
       "        [  0, 255,   0],\n",
       "        [  0, 255,   0]],\n",
       "\n",
       "       ...,\n",
       "\n",
       "       [[  0,   0,   0],\n",
       "        [  0,   0,   0],\n",
       "        [  0,   0,   0],\n",
       "        ...,\n",
       "        [255,   0,   0],\n",
       "        [255,   0,   0],\n",
       "        [255,   0,   0]],\n",
       "\n",
       "       [[  0,   0,   0],\n",
       "        [  0,   0,   0],\n",
       "        [  0,   0,   0],\n",
       "        ...,\n",
       "        [255,   0,   0],\n",
       "        [255,   0,   0],\n",
       "        [255,   0,   0]],\n",
       "\n",
       "       [[  0,   0,   0],\n",
       "        [  0,   0,   0],\n",
       "        [  0,   0,   0],\n",
       "        ...,\n",
       "        [255,   0,   0],\n",
       "        [255,   0,   0],\n",
       "        [255,   0,   0]]], dtype=uint8)"
      ]
     },
     "execution_count": 17,
     "metadata": {},
     "output_type": "execute_result"
    }
   ],
   "source": [
    "cv.rectangle(img,(384,0),(510,128),(0,255,0),3)"
   ]
  },
  {
   "cell_type": "markdown",
   "id": "07156937",
   "metadata": {
    "hidden": true
   },
   "source": [
    "### Drawing circle"
   ]
  },
  {
   "cell_type": "code",
   "execution_count": 18,
   "id": "fe1f7097",
   "metadata": {
    "collapsed": true,
    "hidden": true
   },
   "outputs": [
    {
     "data": {
      "text/plain": [
       "array([[[255,   0,   0],\n",
       "        [255,   0,   0],\n",
       "        [255,   0,   0],\n",
       "        ...,\n",
       "        [  0, 255,   0],\n",
       "        [  0, 255,   0],\n",
       "        [  0, 255,   0]],\n",
       "\n",
       "       [[255,   0,   0],\n",
       "        [255,   0,   0],\n",
       "        [255,   0,   0],\n",
       "        ...,\n",
       "        [  0, 255,   0],\n",
       "        [  0, 255,   0],\n",
       "        [  0, 255,   0]],\n",
       "\n",
       "       [[255,   0,   0],\n",
       "        [255,   0,   0],\n",
       "        [255,   0,   0],\n",
       "        ...,\n",
       "        [  0, 255,   0],\n",
       "        [  0, 255,   0],\n",
       "        [  0, 255,   0]],\n",
       "\n",
       "       ...,\n",
       "\n",
       "       [[  0,   0,   0],\n",
       "        [  0,   0,   0],\n",
       "        [  0,   0,   0],\n",
       "        ...,\n",
       "        [255,   0,   0],\n",
       "        [255,   0,   0],\n",
       "        [255,   0,   0]],\n",
       "\n",
       "       [[  0,   0,   0],\n",
       "        [  0,   0,   0],\n",
       "        [  0,   0,   0],\n",
       "        ...,\n",
       "        [255,   0,   0],\n",
       "        [255,   0,   0],\n",
       "        [255,   0,   0]],\n",
       "\n",
       "       [[  0,   0,   0],\n",
       "        [  0,   0,   0],\n",
       "        [  0,   0,   0],\n",
       "        ...,\n",
       "        [255,   0,   0],\n",
       "        [255,   0,   0],\n",
       "        [255,   0,   0]]], dtype=uint8)"
      ]
     },
     "execution_count": 18,
     "metadata": {},
     "output_type": "execute_result"
    }
   ],
   "source": [
    "cv.circle(img,(447,63), 63, (0,0,255), -1)"
   ]
  },
  {
   "cell_type": "markdown",
   "id": "2c17b608",
   "metadata": {
    "hidden": true
   },
   "source": [
    "### Drawing ellipse"
   ]
  },
  {
   "cell_type": "code",
   "execution_count": 19,
   "id": "2364cd37",
   "metadata": {
    "collapsed": true,
    "hidden": true
   },
   "outputs": [
    {
     "data": {
      "text/plain": [
       "array([[[255,   0,   0],\n",
       "        [255,   0,   0],\n",
       "        [255,   0,   0],\n",
       "        ...,\n",
       "        [  0, 255,   0],\n",
       "        [  0, 255,   0],\n",
       "        [  0, 255,   0]],\n",
       "\n",
       "       [[255,   0,   0],\n",
       "        [255,   0,   0],\n",
       "        [255,   0,   0],\n",
       "        ...,\n",
       "        [  0, 255,   0],\n",
       "        [  0, 255,   0],\n",
       "        [  0, 255,   0]],\n",
       "\n",
       "       [[255,   0,   0],\n",
       "        [255,   0,   0],\n",
       "        [255,   0,   0],\n",
       "        ...,\n",
       "        [  0, 255,   0],\n",
       "        [  0, 255,   0],\n",
       "        [  0, 255,   0]],\n",
       "\n",
       "       ...,\n",
       "\n",
       "       [[  0,   0,   0],\n",
       "        [  0,   0,   0],\n",
       "        [  0,   0,   0],\n",
       "        ...,\n",
       "        [255,   0,   0],\n",
       "        [255,   0,   0],\n",
       "        [255,   0,   0]],\n",
       "\n",
       "       [[  0,   0,   0],\n",
       "        [  0,   0,   0],\n",
       "        [  0,   0,   0],\n",
       "        ...,\n",
       "        [255,   0,   0],\n",
       "        [255,   0,   0],\n",
       "        [255,   0,   0]],\n",
       "\n",
       "       [[  0,   0,   0],\n",
       "        [  0,   0,   0],\n",
       "        [  0,   0,   0],\n",
       "        ...,\n",
       "        [255,   0,   0],\n",
       "        [255,   0,   0],\n",
       "        [255,   0,   0]]], dtype=uint8)"
      ]
     },
     "execution_count": 19,
     "metadata": {},
     "output_type": "execute_result"
    }
   ],
   "source": [
    "cv.ellipse(img,(256,256),(100,50),0,0,180,255,-1)"
   ]
  },
  {
   "cell_type": "markdown",
   "id": "99a7f431",
   "metadata": {
    "hidden": true
   },
   "source": [
    "### Drawing polygons"
   ]
  },
  {
   "cell_type": "code",
   "execution_count": 20,
   "id": "cfe17319",
   "metadata": {
    "collapsed": true,
    "hidden": true
   },
   "outputs": [
    {
     "data": {
      "text/plain": [
       "array([[[255,   0,   0],\n",
       "        [255,   0,   0],\n",
       "        [255,   0,   0],\n",
       "        ...,\n",
       "        [  0, 255,   0],\n",
       "        [  0, 255,   0],\n",
       "        [  0, 255,   0]],\n",
       "\n",
       "       [[255,   0,   0],\n",
       "        [255,   0,   0],\n",
       "        [255,   0,   0],\n",
       "        ...,\n",
       "        [  0, 255,   0],\n",
       "        [  0, 255,   0],\n",
       "        [  0, 255,   0]],\n",
       "\n",
       "       [[255,   0,   0],\n",
       "        [255,   0,   0],\n",
       "        [255,   0,   0],\n",
       "        ...,\n",
       "        [  0, 255,   0],\n",
       "        [  0, 255,   0],\n",
       "        [  0, 255,   0]],\n",
       "\n",
       "       ...,\n",
       "\n",
       "       [[  0,   0,   0],\n",
       "        [  0,   0,   0],\n",
       "        [  0,   0,   0],\n",
       "        ...,\n",
       "        [255,   0,   0],\n",
       "        [255,   0,   0],\n",
       "        [255,   0,   0]],\n",
       "\n",
       "       [[  0,   0,   0],\n",
       "        [  0,   0,   0],\n",
       "        [  0,   0,   0],\n",
       "        ...,\n",
       "        [255,   0,   0],\n",
       "        [255,   0,   0],\n",
       "        [255,   0,   0]],\n",
       "\n",
       "       [[  0,   0,   0],\n",
       "        [  0,   0,   0],\n",
       "        [  0,   0,   0],\n",
       "        ...,\n",
       "        [255,   0,   0],\n",
       "        [255,   0,   0],\n",
       "        [255,   0,   0]]], dtype=uint8)"
      ]
     },
     "execution_count": 20,
     "metadata": {},
     "output_type": "execute_result"
    }
   ],
   "source": [
    "pts = np.array([[10,5],[20,30],[70,20],[50,10]], np.int32)\n",
    "pts = pts.reshape((-1,1,2))\n",
    "cv.polylines(img,[pts],True,(0,255,255))"
   ]
  },
  {
   "cell_type": "markdown",
   "id": "8d5388e1",
   "metadata": {
    "hidden": true
   },
   "source": [
    "###  Adding Text to Images"
   ]
  },
  {
   "cell_type": "code",
   "execution_count": 21,
   "id": "dc90f9f6",
   "metadata": {
    "collapsed": true,
    "hidden": true
   },
   "outputs": [
    {
     "data": {
      "text/plain": [
       "array([[[255,   0,   0],\n",
       "        [255,   0,   0],\n",
       "        [255,   0,   0],\n",
       "        ...,\n",
       "        [  0, 255,   0],\n",
       "        [  0, 255,   0],\n",
       "        [  0, 255,   0]],\n",
       "\n",
       "       [[255,   0,   0],\n",
       "        [255,   0,   0],\n",
       "        [255,   0,   0],\n",
       "        ...,\n",
       "        [  0, 255,   0],\n",
       "        [  0, 255,   0],\n",
       "        [  0, 255,   0]],\n",
       "\n",
       "       [[255,   0,   0],\n",
       "        [255,   0,   0],\n",
       "        [255,   0,   0],\n",
       "        ...,\n",
       "        [  0, 255,   0],\n",
       "        [  0, 255,   0],\n",
       "        [  0, 255,   0]],\n",
       "\n",
       "       ...,\n",
       "\n",
       "       [[  0,   0,   0],\n",
       "        [  0,   0,   0],\n",
       "        [  0,   0,   0],\n",
       "        ...,\n",
       "        [255,   0,   0],\n",
       "        [255,   0,   0],\n",
       "        [255,   0,   0]],\n",
       "\n",
       "       [[  0,   0,   0],\n",
       "        [  0,   0,   0],\n",
       "        [  0,   0,   0],\n",
       "        ...,\n",
       "        [255,   0,   0],\n",
       "        [255,   0,   0],\n",
       "        [255,   0,   0]],\n",
       "\n",
       "       [[  0,   0,   0],\n",
       "        [  0,   0,   0],\n",
       "        [  0,   0,   0],\n",
       "        ...,\n",
       "        [255,   0,   0],\n",
       "        [255,   0,   0],\n",
       "        [255,   0,   0]]], dtype=uint8)"
      ]
     },
     "execution_count": 21,
     "metadata": {},
     "output_type": "execute_result"
    }
   ],
   "source": [
    "font = cv.FONT_HERSHEY_SIMPLEX\n",
    "cv.putText(img,'OpenCV',(10,500), font, 4,(255,255,255),2,cv.LINE_AA)"
   ]
  },
  {
   "cell_type": "markdown",
   "id": "bfc338b9",
   "metadata": {
    "hidden": true
   },
   "source": [
    "### Result"
   ]
  },
  {
   "cell_type": "code",
   "execution_count": 22,
   "id": "37dc93b0",
   "metadata": {
    "hidden": true
   },
   "outputs": [],
   "source": [
    "cv.imshow(\"Display window\", img)\n",
    "k = cv.waitKey(0)\n",
    "if k == ord(\"s\"):\n",
    "    cv.imwrite(\"starry_night.png\", img)\n",
    "    cv.destroyAllWindows()\n",
    "if k == ord('q'):\n",
    "    cv.destroyAllWindows()"
   ]
  },
  {
   "cell_type": "markdown",
   "id": "6da9b7a8",
   "metadata": {},
   "source": [
    "# Core Operations"
   ]
  },
  {
   "cell_type": "markdown",
   "id": "7fe28996",
   "metadata": {},
   "source": [
    "## Basic Operations on Images"
   ]
  },
  {
   "cell_type": "markdown",
   "id": "a2d9a29f",
   "metadata": {},
   "source": [
    "### Accessing and Modifying pixel values"
   ]
  },
  {
   "cell_type": "code",
   "execution_count": 4,
   "id": "42ec1e28",
   "metadata": {},
   "outputs": [],
   "source": [
    "img = cv.imread('raw_data/Starry_night.jpg')"
   ]
  },
  {
   "cell_type": "code",
   "execution_count": 5,
   "id": "c82fa105",
   "metadata": {},
   "outputs": [
    {
     "data": {
      "text/plain": [
       "(1600, 2271, 3)"
      ]
     },
     "execution_count": 5,
     "metadata": {},
     "output_type": "execute_result"
    }
   ],
   "source": [
    "img.shape"
   ]
  },
  {
   "cell_type": "code",
   "execution_count": 6,
   "id": "334487e8",
   "metadata": {},
   "outputs": [],
   "source": [
    "blue_channel= img[:,:,1]\n",
    "cv.imshow('Blue channel', blue_channel)\n",
    "k = cv.waitKey(0)\n",
    "if k == ord('q'):\n",
    "    cv.destroyAllWindows()"
   ]
  },
  {
   "cell_type": "code",
   "execution_count": 32,
   "id": "7969c0a1",
   "metadata": {},
   "outputs": [],
   "source": [
    "mod_img=img.copy()\n",
    "mod_img[0:100,0:100,:]=0\n",
    "cv.imshow('modified image with black corner', mod_img)\n",
    "k = cv.waitKey(0)\n",
    "if k == ord('q'):\n",
    "    cv.destroyAllWindows()"
   ]
  },
  {
   "cell_type": "code",
   "execution_count": 33,
   "id": "cb642e8b",
   "metadata": {},
   "outputs": [
    {
     "name": "stdout",
     "output_type": "stream",
     "text": [
      "31\n",
      "100\n"
     ]
    }
   ],
   "source": [
    "# accessing RED value\n",
    "print(img.item(10,10,2))\n",
    "# modifying RED value\n",
    "img.itemset((10,10,2),100)\n",
    "print(img.item(10,10,2))"
   ]
  },
  {
   "cell_type": "markdown",
   "id": "dc070b82",
   "metadata": {
    "heading_collapsed": true
   },
   "source": [
    "### Accessing Image Properties"
   ]
  },
  {
   "cell_type": "code",
   "execution_count": 34,
   "id": "02f8d0e8",
   "metadata": {
    "hidden": true
   },
   "outputs": [
    {
     "data": {
      "text/plain": [
       "(1600, 2271, 3)"
      ]
     },
     "execution_count": 34,
     "metadata": {},
     "output_type": "execute_result"
    }
   ],
   "source": [
    "img.shape"
   ]
  },
  {
   "cell_type": "code",
   "execution_count": 35,
   "id": "fd3aab63",
   "metadata": {
    "hidden": true
   },
   "outputs": [
    {
     "data": {
      "text/plain": [
       "10900800"
      ]
     },
     "execution_count": 35,
     "metadata": {},
     "output_type": "execute_result"
    }
   ],
   "source": [
    "img.size"
   ]
  },
  {
   "cell_type": "code",
   "execution_count": 37,
   "id": "43f6ba8a",
   "metadata": {
    "hidden": true
   },
   "outputs": [
    {
     "data": {
      "text/plain": [
       "dtype('uint8')"
      ]
     },
     "execution_count": 37,
     "metadata": {},
     "output_type": "execute_result"
    }
   ],
   "source": [
    "img.dtype"
   ]
  },
  {
   "cell_type": "markdown",
   "id": "2b9b99f8",
   "metadata": {},
   "source": [
    "### Region of image (ROI)"
   ]
  },
  {
   "cell_type": "code",
   "execution_count": 2,
   "id": "86a0e7b6",
   "metadata": {},
   "outputs": [],
   "source": [
    "img = cv.imread('raw_data/roi.jpg')"
   ]
  },
  {
   "cell_type": "code",
   "execution_count": 5,
   "id": "acc64210",
   "metadata": {},
   "outputs": [],
   "source": [
    "cv.imshow('selection de region',img)\n",
    "k = cv.waitKey(0)\n",
    "if k == ord('q'):\n",
    "    cv.destroyAllWindows()"
   ]
  },
  {
   "cell_type": "code",
   "execution_count": 3,
   "id": "32db8e27",
   "metadata": {},
   "outputs": [
    {
     "name": "stdout",
     "output_type": "stream",
     "text": [
      "(0, 60, 3)\n"
     ]
    },
    {
     "data": {
      "text/plain": [
       "(60, 60, 3)"
      ]
     },
     "execution_count": 3,
     "metadata": {},
     "output_type": "execute_result"
    }
   ],
   "source": [
    "ball = img[280:340, 330:390,:]\n",
    "print(ball.shape)\n",
    "img[173:233, 100:160,:].shape"
   ]
  },
  {
   "cell_type": "code",
   "execution_count": 8,
   "id": "bdd013c7",
   "metadata": {},
   "outputs": [],
   "source": [
    "cv.imshow('selection de region',img)\n",
    "k = cv.waitKey(0)\n",
    "if k == ord('q'):\n",
    "    cv.destroyAllWindows()"
   ]
  },
  {
   "cell_type": "code",
   "execution_count": 9,
   "id": "12cdf0c6",
   "metadata": {},
   "outputs": [
    {
     "data": {
      "text/plain": [
       "(280, 450, 3)"
      ]
     },
     "execution_count": 9,
     "metadata": {},
     "output_type": "execute_result"
    }
   ],
   "source": [
    "img.shape"
   ]
  },
  {
   "cell_type": "code",
   "execution_count": null,
   "id": "61c99364",
   "metadata": {},
   "outputs": [],
   "source": []
  }
 ],
 "metadata": {
  "kernelspec": {
   "display_name": "Python 3 (ipykernel)",
   "language": "python",
   "name": "python3"
  },
  "language_info": {
   "codemirror_mode": {
    "name": "ipython",
    "version": 3
   },
   "file_extension": ".py",
   "mimetype": "text/x-python",
   "name": "python",
   "nbconvert_exporter": "python",
   "pygments_lexer": "ipython3",
   "version": "3.10.6"
  },
  "toc": {
   "base_numbering": 1,
   "nav_menu": {},
   "number_sections": true,
   "sideBar": true,
   "skip_h1_title": false,
   "title_cell": "Table of Contents",
   "title_sidebar": "Contents",
   "toc_cell": false,
   "toc_position": {},
   "toc_section_display": true,
   "toc_window_display": false
  }
 },
 "nbformat": 4,
 "nbformat_minor": 5
}
