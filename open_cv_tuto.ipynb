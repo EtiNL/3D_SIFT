{
 "cells": [
  {
   "cell_type": "code",
   "execution_count": 1,
   "id": "2b6f16f5",
   "metadata": {},
   "outputs": [],
   "source": [
    "import cv2 as cv\n",
    "import sys\n",
    "import os\n",
    "import numpy as np\n",
    "from matplotlib import pyplot as plt"
   ]
  },
  {
   "cell_type": "markdown",
   "id": "2d85b928",
   "metadata": {},
   "source": [
    "lien du tuto:  \n",
    "https://docs.opencv.org/4.x/d6/d00/tutorial_py_root.html"
   ]
  },
  {
   "cell_type": "markdown",
   "id": "0c11d207",
   "metadata": {},
   "source": [
    "# Gui Features in OpenCV"
   ]
  },
  {
   "cell_type": "markdown",
   "id": "97ca9e66",
   "metadata": {},
   "source": [
    "## Getting started with images"
   ]
  },
  {
   "cell_type": "code",
   "execution_count": 2,
   "id": "9469c03e",
   "metadata": {},
   "outputs": [],
   "source": [
    "img = cv.imread('raw_data/Starry_night.jpg')\n",
    "if img is None:\n",
    "    sys.exit(\"Could not read the image.\")\n",
    "cv.imshow(\"Display window\", img)\n",
    "k = cv.waitKey(0)\n",
    "if k == ord(\"s\"):\n",
    "    cv.imwrite(\"raw_data/Starry_night.jpg\", img)\n",
    "    cv.destroyAllWindows()\n",
    "if k == ord('q'):\n",
    "    cv.destroyAllWindows()"
   ]
  },
  {
   "cell_type": "markdown",
   "id": "28f48f3e",
   "metadata": {},
   "source": [
    "## Getting started with videos"
   ]
  },
  {
   "cell_type": "markdown",
   "id": "5a22a318",
   "metadata": {
    "heading_collapsed": true
   },
   "source": [
    "### Capture Video from Camera"
   ]
  },
  {
   "cell_type": "code",
   "execution_count": 3,
   "id": "f28b3b96",
   "metadata": {
    "hidden": true
   },
   "outputs": [],
   "source": [
    "# cap = cv.VideoCapture(0)\n",
    "# if not cap.isOpened():\n",
    "#     print(\"Cannot open camera\")\n",
    "#     exit()\n",
    "# while True:\n",
    "#     # Capture frame-by-frame\n",
    "#     ret, frame = cap.read()\n",
    "#     # if frame is read correctly ret is True\n",
    "#     if not ret:\n",
    "#         print(\"Can't receive frame (stream end?). Exiting ...\")\n",
    "#         break\n",
    "#     # Our operations on the frame come here\n",
    "#     gray = cv.cvtColor(frame, cv.COLOR_BGR2GRAY)\n",
    "#     # Display the resulting frame\n",
    "#     cv.imshow('frame', gray)\n",
    "#     if cv.waitKey(1) == ord('q'):\n",
    "#         break\n",
    "# # When everything done, release the capture\n",
    "# cap.release()\n",
    "# cv.destroyAllWindows()"
   ]
  },
  {
   "cell_type": "markdown",
   "id": "57197c9b",
   "metadata": {
    "heading_collapsed": true
   },
   "source": [
    "### Playing Video from file"
   ]
  },
  {
   "cell_type": "code",
   "execution_count": 3,
   "id": "7924b6b6",
   "metadata": {
    "hidden": true
   },
   "outputs": [],
   "source": [
    "cap = cv.VideoCapture('raw_data/Strip_club.MOV')\n",
    "while cap.isOpened():\n",
    "    ret, frame = cap.read()\n",
    "    # if frame is read correctly ret is True\n",
    "    if not ret:\n",
    "        print(\"Can't receive frame (stream end?). Exiting ...\")\n",
    "        break\n",
    "    gray = cv.cvtColor(frame, cv.COLOR_BGR2GRAY)\n",
    "    cv.imshow('frame', gray)\n",
    "    if cv.waitKey(25) == ord('q'):\n",
    "        break\n",
    "cap.release()\n",
    "cv.destroyAllWindows()"
   ]
  },
  {
   "cell_type": "markdown",
   "id": "b7debd19",
   "metadata": {
    "heading_collapsed": true
   },
   "source": [
    "## Drawing Functions in OpenCV"
   ]
  },
  {
   "cell_type": "markdown",
   "id": "cd688a76",
   "metadata": {
    "hidden": true
   },
   "source": [
    "### Drawing line "
   ]
  },
  {
   "cell_type": "code",
   "execution_count": 4,
   "id": "4d174392",
   "metadata": {
    "hidden": true
   },
   "outputs": [],
   "source": [
    "# Create a black image\n",
    "img = np.zeros((512,512,3), np.uint8)\n",
    "# Draw a diagonal blue line with thickness of 5 px\n",
    "cv.line(img,(0,0),(511,511),(255,0,0),5)\n",
    "\n",
    "\n",
    "cv.imshow(\"Display window\", img)\n",
    "k = cv.waitKey(0)\n",
    "if k == ord(\"s\"):\n",
    "    cv.imwrite(\"starry_night.png\", img)\n",
    "    cv.destroyAllWindows()\n",
    "if k == ord('q'):\n",
    "    cv.destroyAllWindows()"
   ]
  },
  {
   "cell_type": "markdown",
   "id": "2d4b4dd0",
   "metadata": {
    "hidden": true
   },
   "source": [
    "### Drawing rectangle"
   ]
  },
  {
   "cell_type": "code",
   "execution_count": 5,
   "id": "b63a4ab7",
   "metadata": {
    "hidden": true
   },
   "outputs": [
    {
     "data": {
      "text/plain": [
       "array([[[255,   0,   0],\n",
       "        [255,   0,   0],\n",
       "        [255,   0,   0],\n",
       "        ...,\n",
       "        [  0, 255,   0],\n",
       "        [  0, 255,   0],\n",
       "        [  0, 255,   0]],\n",
       "\n",
       "       [[255,   0,   0],\n",
       "        [255,   0,   0],\n",
       "        [255,   0,   0],\n",
       "        ...,\n",
       "        [  0, 255,   0],\n",
       "        [  0, 255,   0],\n",
       "        [  0, 255,   0]],\n",
       "\n",
       "       [[255,   0,   0],\n",
       "        [255,   0,   0],\n",
       "        [255,   0,   0],\n",
       "        ...,\n",
       "        [  0, 255,   0],\n",
       "        [  0, 255,   0],\n",
       "        [  0, 255,   0]],\n",
       "\n",
       "       ...,\n",
       "\n",
       "       [[  0,   0,   0],\n",
       "        [  0,   0,   0],\n",
       "        [  0,   0,   0],\n",
       "        ...,\n",
       "        [255,   0,   0],\n",
       "        [255,   0,   0],\n",
       "        [255,   0,   0]],\n",
       "\n",
       "       [[  0,   0,   0],\n",
       "        [  0,   0,   0],\n",
       "        [  0,   0,   0],\n",
       "        ...,\n",
       "        [255,   0,   0],\n",
       "        [255,   0,   0],\n",
       "        [255,   0,   0]],\n",
       "\n",
       "       [[  0,   0,   0],\n",
       "        [  0,   0,   0],\n",
       "        [  0,   0,   0],\n",
       "        ...,\n",
       "        [255,   0,   0],\n",
       "        [255,   0,   0],\n",
       "        [255,   0,   0]]], dtype=uint8)"
      ]
     },
     "execution_count": 5,
     "metadata": {},
     "output_type": "execute_result"
    }
   ],
   "source": [
    "cv.rectangle(img,(384,0),(510,128),(0,255,0),3)"
   ]
  },
  {
   "cell_type": "markdown",
   "id": "07156937",
   "metadata": {
    "hidden": true
   },
   "source": [
    "### Drawing circle"
   ]
  },
  {
   "cell_type": "code",
   "execution_count": 6,
   "id": "fe1f7097",
   "metadata": {
    "hidden": true
   },
   "outputs": [
    {
     "data": {
      "text/plain": [
       "array([[[255,   0,   0],\n",
       "        [255,   0,   0],\n",
       "        [255,   0,   0],\n",
       "        ...,\n",
       "        [  0, 255,   0],\n",
       "        [  0, 255,   0],\n",
       "        [  0, 255,   0]],\n",
       "\n",
       "       [[255,   0,   0],\n",
       "        [255,   0,   0],\n",
       "        [255,   0,   0],\n",
       "        ...,\n",
       "        [  0, 255,   0],\n",
       "        [  0, 255,   0],\n",
       "        [  0, 255,   0]],\n",
       "\n",
       "       [[255,   0,   0],\n",
       "        [255,   0,   0],\n",
       "        [255,   0,   0],\n",
       "        ...,\n",
       "        [  0, 255,   0],\n",
       "        [  0, 255,   0],\n",
       "        [  0, 255,   0]],\n",
       "\n",
       "       ...,\n",
       "\n",
       "       [[  0,   0,   0],\n",
       "        [  0,   0,   0],\n",
       "        [  0,   0,   0],\n",
       "        ...,\n",
       "        [255,   0,   0],\n",
       "        [255,   0,   0],\n",
       "        [255,   0,   0]],\n",
       "\n",
       "       [[  0,   0,   0],\n",
       "        [  0,   0,   0],\n",
       "        [  0,   0,   0],\n",
       "        ...,\n",
       "        [255,   0,   0],\n",
       "        [255,   0,   0],\n",
       "        [255,   0,   0]],\n",
       "\n",
       "       [[  0,   0,   0],\n",
       "        [  0,   0,   0],\n",
       "        [  0,   0,   0],\n",
       "        ...,\n",
       "        [255,   0,   0],\n",
       "        [255,   0,   0],\n",
       "        [255,   0,   0]]], dtype=uint8)"
      ]
     },
     "execution_count": 6,
     "metadata": {},
     "output_type": "execute_result"
    }
   ],
   "source": [
    "cv.circle(img,(447,63), 63, (0,0,255), -1)"
   ]
  },
  {
   "cell_type": "markdown",
   "id": "2c17b608",
   "metadata": {
    "hidden": true
   },
   "source": [
    "### Drawing ellipse"
   ]
  },
  {
   "cell_type": "code",
   "execution_count": 7,
   "id": "2364cd37",
   "metadata": {
    "hidden": true
   },
   "outputs": [
    {
     "data": {
      "text/plain": [
       "array([[[255,   0,   0],\n",
       "        [255,   0,   0],\n",
       "        [255,   0,   0],\n",
       "        ...,\n",
       "        [  0, 255,   0],\n",
       "        [  0, 255,   0],\n",
       "        [  0, 255,   0]],\n",
       "\n",
       "       [[255,   0,   0],\n",
       "        [255,   0,   0],\n",
       "        [255,   0,   0],\n",
       "        ...,\n",
       "        [  0, 255,   0],\n",
       "        [  0, 255,   0],\n",
       "        [  0, 255,   0]],\n",
       "\n",
       "       [[255,   0,   0],\n",
       "        [255,   0,   0],\n",
       "        [255,   0,   0],\n",
       "        ...,\n",
       "        [  0, 255,   0],\n",
       "        [  0, 255,   0],\n",
       "        [  0, 255,   0]],\n",
       "\n",
       "       ...,\n",
       "\n",
       "       [[  0,   0,   0],\n",
       "        [  0,   0,   0],\n",
       "        [  0,   0,   0],\n",
       "        ...,\n",
       "        [255,   0,   0],\n",
       "        [255,   0,   0],\n",
       "        [255,   0,   0]],\n",
       "\n",
       "       [[  0,   0,   0],\n",
       "        [  0,   0,   0],\n",
       "        [  0,   0,   0],\n",
       "        ...,\n",
       "        [255,   0,   0],\n",
       "        [255,   0,   0],\n",
       "        [255,   0,   0]],\n",
       "\n",
       "       [[  0,   0,   0],\n",
       "        [  0,   0,   0],\n",
       "        [  0,   0,   0],\n",
       "        ...,\n",
       "        [255,   0,   0],\n",
       "        [255,   0,   0],\n",
       "        [255,   0,   0]]], dtype=uint8)"
      ]
     },
     "execution_count": 7,
     "metadata": {},
     "output_type": "execute_result"
    }
   ],
   "source": [
    "cv.ellipse(img,(256,256),(100,50),0,0,180,255,-1)"
   ]
  },
  {
   "cell_type": "markdown",
   "id": "99a7f431",
   "metadata": {
    "hidden": true
   },
   "source": [
    "### Drawing polygons"
   ]
  },
  {
   "cell_type": "code",
   "execution_count": 9,
   "id": "cfe17319",
   "metadata": {
    "hidden": true
   },
   "outputs": [
    {
     "name": "stdout",
     "output_type": "stream",
     "text": [
      "[[[10  5]]\n",
      "\n",
      " [[20 30]]\n",
      "\n",
      " [[70 20]]\n",
      "\n",
      " [[50 10]]]\n"
     ]
    },
    {
     "data": {
      "text/plain": [
       "array([[[255,   0,   0],\n",
       "        [255,   0,   0],\n",
       "        [255,   0,   0],\n",
       "        ...,\n",
       "        [  0, 255,   0],\n",
       "        [  0, 255,   0],\n",
       "        [  0, 255,   0]],\n",
       "\n",
       "       [[255,   0,   0],\n",
       "        [255,   0,   0],\n",
       "        [255,   0,   0],\n",
       "        ...,\n",
       "        [  0, 255,   0],\n",
       "        [  0, 255,   0],\n",
       "        [  0, 255,   0]],\n",
       "\n",
       "       [[255,   0,   0],\n",
       "        [255,   0,   0],\n",
       "        [255,   0,   0],\n",
       "        ...,\n",
       "        [  0, 255,   0],\n",
       "        [  0, 255,   0],\n",
       "        [  0, 255,   0]],\n",
       "\n",
       "       ...,\n",
       "\n",
       "       [[  0,   0,   0],\n",
       "        [  0,   0,   0],\n",
       "        [  0,   0,   0],\n",
       "        ...,\n",
       "        [255,   0,   0],\n",
       "        [255,   0,   0],\n",
       "        [255,   0,   0]],\n",
       "\n",
       "       [[  0,   0,   0],\n",
       "        [  0,   0,   0],\n",
       "        [  0,   0,   0],\n",
       "        ...,\n",
       "        [255,   0,   0],\n",
       "        [255,   0,   0],\n",
       "        [255,   0,   0]],\n",
       "\n",
       "       [[  0,   0,   0],\n",
       "        [  0,   0,   0],\n",
       "        [  0,   0,   0],\n",
       "        ...,\n",
       "        [255,   0,   0],\n",
       "        [255,   0,   0],\n",
       "        [255,   0,   0]]], dtype=uint8)"
      ]
     },
     "execution_count": 9,
     "metadata": {},
     "output_type": "execute_result"
    }
   ],
   "source": [
    "pts = np.array([[10,5],[20,30],[70,20],[50,10]], np.int32)\n",
    "pts = pts.reshape((-1,1,2))\n",
    "print(pts)\n",
    "cv.polylines(img,[pts],True,(0,255,255))"
   ]
  },
  {
   "cell_type": "markdown",
   "id": "8d5388e1",
   "metadata": {
    "hidden": true
   },
   "source": [
    "###  Adding Text to Images"
   ]
  },
  {
   "cell_type": "code",
   "execution_count": 10,
   "id": "dc90f9f6",
   "metadata": {
    "hidden": true
   },
   "outputs": [
    {
     "data": {
      "text/plain": [
       "array([[[255,   0,   0],\n",
       "        [255,   0,   0],\n",
       "        [255,   0,   0],\n",
       "        ...,\n",
       "        [  0, 255,   0],\n",
       "        [  0, 255,   0],\n",
       "        [  0, 255,   0]],\n",
       "\n",
       "       [[255,   0,   0],\n",
       "        [255,   0,   0],\n",
       "        [255,   0,   0],\n",
       "        ...,\n",
       "        [  0, 255,   0],\n",
       "        [  0, 255,   0],\n",
       "        [  0, 255,   0]],\n",
       "\n",
       "       [[255,   0,   0],\n",
       "        [255,   0,   0],\n",
       "        [255,   0,   0],\n",
       "        ...,\n",
       "        [  0, 255,   0],\n",
       "        [  0, 255,   0],\n",
       "        [  0, 255,   0]],\n",
       "\n",
       "       ...,\n",
       "\n",
       "       [[  0,   0,   0],\n",
       "        [  0,   0,   0],\n",
       "        [  0,   0,   0],\n",
       "        ...,\n",
       "        [255,   0,   0],\n",
       "        [255,   0,   0],\n",
       "        [255,   0,   0]],\n",
       "\n",
       "       [[  0,   0,   0],\n",
       "        [  0,   0,   0],\n",
       "        [  0,   0,   0],\n",
       "        ...,\n",
       "        [255,   0,   0],\n",
       "        [255,   0,   0],\n",
       "        [255,   0,   0]],\n",
       "\n",
       "       [[  0,   0,   0],\n",
       "        [  0,   0,   0],\n",
       "        [  0,   0,   0],\n",
       "        ...,\n",
       "        [255,   0,   0],\n",
       "        [255,   0,   0],\n",
       "        [255,   0,   0]]], dtype=uint8)"
      ]
     },
     "execution_count": 10,
     "metadata": {},
     "output_type": "execute_result"
    }
   ],
   "source": [
    "font = cv.FONT_HERSHEY_SIMPLEX\n",
    "cv.putText(img,'OpenCV',(10,500), font, 4,(255,255,255),2,cv.LINE_AA)"
   ]
  },
  {
   "cell_type": "markdown",
   "id": "bfc338b9",
   "metadata": {
    "hidden": true
   },
   "source": [
    "### Result"
   ]
  },
  {
   "cell_type": "code",
   "execution_count": 11,
   "id": "37dc93b0",
   "metadata": {
    "hidden": true
   },
   "outputs": [],
   "source": [
    "cv.imshow(\"Display window\", img)\n",
    "k = cv.waitKey(0)\n",
    "if k == ord(\"s\"):\n",
    "    cv.imwrite(\"starry_night.png\", img)\n",
    "    cv.destroyAllWindows()\n",
    "if k == ord('q'):\n",
    "    cv.destroyAllWindows()"
   ]
  },
  {
   "cell_type": "markdown",
   "id": "6da9b7a8",
   "metadata": {},
   "source": [
    "# Core Operations"
   ]
  },
  {
   "cell_type": "markdown",
   "id": "7fe28996",
   "metadata": {},
   "source": [
    "## Basic Operations on Images"
   ]
  },
  {
   "cell_type": "markdown",
   "id": "a2d9a29f",
   "metadata": {},
   "source": [
    "### Accessing and Modifying pixel values"
   ]
  },
  {
   "cell_type": "code",
   "execution_count": 13,
   "id": "42ec1e28",
   "metadata": {},
   "outputs": [],
   "source": [
    "img = cv.imread('raw_data/Starry_night.jpg')"
   ]
  },
  {
   "cell_type": "code",
   "execution_count": 5,
   "id": "c82fa105",
   "metadata": {},
   "outputs": [
    {
     "data": {
      "text/plain": [
       "(1600, 2271, 3)"
      ]
     },
     "execution_count": 5,
     "metadata": {},
     "output_type": "execute_result"
    }
   ],
   "source": [
    "img.shape"
   ]
  },
  {
   "cell_type": "code",
   "execution_count": 14,
   "id": "334487e8",
   "metadata": {},
   "outputs": [],
   "source": [
    "blue_channel= img[:,:,1]\n",
    "cv.imshow('Blue channel', blue_channel)\n",
    "k = cv.waitKey(0)\n",
    "if k == ord('q'):\n",
    "    cv.destroyAllWindows()"
   ]
  },
  {
   "cell_type": "code",
   "execution_count": 15,
   "id": "7969c0a1",
   "metadata": {},
   "outputs": [],
   "source": [
    "mod_img=img.copy()\n",
    "mod_img[0:100,0:100,:]=0\n",
    "cv.imshow('modified image with black corner', mod_img)\n",
    "k = cv.waitKey(0)\n",
    "if k == ord('q'):\n",
    "    cv.destroyAllWindows()"
   ]
  },
  {
   "cell_type": "code",
   "execution_count": 33,
   "id": "cb642e8b",
   "metadata": {},
   "outputs": [
    {
     "name": "stdout",
     "output_type": "stream",
     "text": [
      "31\n",
      "100\n"
     ]
    }
   ],
   "source": [
    "# accessing RED value\n",
    "print(img.item(10,10,2))\n",
    "# modifying RED value\n",
    "img.itemset((10,10,2),100)\n",
    "print(img.item(10,10,2))"
   ]
  },
  {
   "cell_type": "markdown",
   "id": "dc070b82",
   "metadata": {},
   "source": [
    "### Accessing Image Properties"
   ]
  },
  {
   "cell_type": "code",
   "execution_count": 34,
   "id": "02f8d0e8",
   "metadata": {},
   "outputs": [
    {
     "data": {
      "text/plain": [
       "(1600, 2271, 3)"
      ]
     },
     "execution_count": 34,
     "metadata": {},
     "output_type": "execute_result"
    }
   ],
   "source": [
    "img.shape"
   ]
  },
  {
   "cell_type": "code",
   "execution_count": 35,
   "id": "fd3aab63",
   "metadata": {},
   "outputs": [
    {
     "data": {
      "text/plain": [
       "10900800"
      ]
     },
     "execution_count": 35,
     "metadata": {},
     "output_type": "execute_result"
    }
   ],
   "source": [
    "img.size"
   ]
  },
  {
   "cell_type": "code",
   "execution_count": 37,
   "id": "43f6ba8a",
   "metadata": {},
   "outputs": [
    {
     "data": {
      "text/plain": [
       "dtype('uint8')"
      ]
     },
     "execution_count": 37,
     "metadata": {},
     "output_type": "execute_result"
    }
   ],
   "source": [
    "img.dtype"
   ]
  },
  {
   "cell_type": "markdown",
   "id": "2b9b99f8",
   "metadata": {},
   "source": [
    "### Region of image (ROI)"
   ]
  },
  {
   "cell_type": "code",
   "execution_count": 16,
   "id": "86a0e7b6",
   "metadata": {},
   "outputs": [
    {
     "data": {
      "text/plain": [
       "(280, 450, 3)"
      ]
     },
     "execution_count": 16,
     "metadata": {},
     "output_type": "execute_result"
    }
   ],
   "source": [
    "img = cv.imread('raw_data/roi.jpg')\n",
    "img.shape"
   ]
  },
  {
   "cell_type": "code",
   "execution_count": 17,
   "id": "acc64210",
   "metadata": {},
   "outputs": [],
   "source": [
    "cv.imshow('selection de region',img)\n",
    "k = cv.waitKey(0)\n",
    "if k == ord('q'):\n",
    "    cv.destroyAllWindows()"
   ]
  },
  {
   "cell_type": "code",
   "execution_count": 18,
   "id": "32db8e27",
   "metadata": {},
   "outputs": [],
   "source": [
    "ball = img[230:280,270:320]\n",
    "cv.imshow('ball',ball)\n",
    "k = cv.waitKey(0)\n",
    "if k == ord('q'):\n",
    "    cv.destroyAllWindows()"
   ]
  },
  {
   "cell_type": "code",
   "execution_count": 19,
   "id": "61c99364",
   "metadata": {},
   "outputs": [],
   "source": [
    "img[20:70, 200:250] = ball\n",
    "cv.imshow('added ball in top center',img)\n",
    "k = cv.waitKey(0)\n",
    "if k == ord('q'):\n",
    "    cv.destroyAllWindows()"
   ]
  },
  {
   "cell_type": "markdown",
   "id": "94cb77fa",
   "metadata": {},
   "source": [
    "###  Splitting and Merging Image Channels"
   ]
  },
  {
   "cell_type": "code",
   "execution_count": 20,
   "id": "55b332b6",
   "metadata": {},
   "outputs": [],
   "source": [
    "img = cv.imread('raw_data/roi.jpg')"
   ]
  },
  {
   "cell_type": "code",
   "execution_count": 21,
   "id": "a6ea9c2e",
   "metadata": {
    "scrolled": true
   },
   "outputs": [],
   "source": [
    "b,g,r = cv.split(img)\n",
    "img_merge = cv.merge((b,g,r))"
   ]
  },
  {
   "cell_type": "code",
   "execution_count": 22,
   "id": "f5f4658d",
   "metadata": {},
   "outputs": [],
   "source": [
    "img[:,:,2]=0 #gets the red channel to 0"
   ]
  },
  {
   "cell_type": "code",
   "execution_count": 23,
   "id": "d1df7682",
   "metadata": {},
   "outputs": [],
   "source": [
    "cv.imshow('red channel to 0',img)\n",
    "k = cv.waitKey(0)\n",
    "if k == ord('q'):\n",
    "    cv.destroyAllWindows()"
   ]
  },
  {
   "cell_type": "markdown",
   "id": "f388e1af",
   "metadata": {},
   "source": [
    "###  Making Borders for Images (Padding)"
   ]
  },
  {
   "cell_type": "code",
   "execution_count": 24,
   "id": "ccd9b435",
   "metadata": {},
   "outputs": [],
   "source": [
    "img1 = cv.imread('raw_data/opencv-logo.png')\n",
    "img1 = img1[22:140,98:193,:]\n",
    "cv.imshow('img',img1)\n",
    "k = cv.waitKey(0)\n",
    "if k == ord('q'):\n",
    "    cv.destroyAllWindows()"
   ]
  },
  {
   "cell_type": "code",
   "execution_count": 18,
   "id": "4f1df59e",
   "metadata": {},
   "outputs": [
    {
     "data": {
      "text/plain": [
       "(118, 95, 3)"
      ]
     },
     "execution_count": 18,
     "metadata": {},
     "output_type": "execute_result"
    }
   ],
   "source": [
    "img1.shape"
   ]
  },
  {
   "cell_type": "code",
   "execution_count": 19,
   "id": "2cbc6614",
   "metadata": {},
   "outputs": [
    {
     "data": {
      "image/png": "[encoded data removed]",
      "text/plain": [
       "<Figure size 640x480 with 6 Axes>"
      ]
     },
     "metadata": {},
     "output_type": "display_data"
    }
   ],
   "source": [
    "BLUE = [0,0,255]\n",
    "replicate = cv.copyMakeBorder(img1,10,10,10,10,cv.BORDER_REPLICATE)\n",
    "reflect = cv.copyMakeBorder(img1,10,10,10,10,cv.BORDER_REFLECT)\n",
    "reflect101 = cv.copyMakeBorder(img1,10,10,10,10,cv.BORDER_REFLECT_101)\n",
    "wrap = cv.copyMakeBorder(img1,10,10,10,10,cv.BORDER_WRAP)\n",
    "constant= cv.copyMakeBorder(img1,10,10,10,10,cv.BORDER_CONSTANT,value=BLUE)\n",
    "plt.subplot(231),plt.imshow(img1,'gray'),plt.title('ORIGINAL')\n",
    "plt.subplot(232),plt.imshow(replicate,'gray'),plt.title('REPLICATE')\n",
    "plt.subplot(233),plt.imshow(reflect,'gray'),plt.title('REFLECT')\n",
    "plt.subplot(234),plt.imshow(reflect101,'gray'),plt.title('REFLECT_101')\n",
    "plt.subplot(235),plt.imshow(wrap,'gray'),plt.title('WRAP')\n",
    "plt.subplot(236),plt.imshow(constant,'gray'),plt.title('CONSTANT')\n",
    "plt.show()"
   ]
  },
  {
   "cell_type": "markdown",
   "id": "7dfab222",
   "metadata": {},
   "source": [
    "## Arithmetic operations on images"
   ]
  },
  {
   "cell_type": "markdown",
   "id": "45555ff0",
   "metadata": {},
   "source": [
    "### Image Addition"
   ]
  },
  {
   "cell_type": "code",
   "execution_count": 20,
   "id": "a7a47abc",
   "metadata": {},
   "outputs": [],
   "source": [
    "x = np.uint8([250])\n",
    "y = np.uint8([10])"
   ]
  },
  {
   "cell_type": "code",
   "execution_count": 21,
   "id": "dcb769d2",
   "metadata": {},
   "outputs": [
    {
     "data": {
      "text/plain": [
       "array([[255]], dtype=uint8)"
      ]
     },
     "execution_count": 21,
     "metadata": {},
     "output_type": "execute_result"
    }
   ],
   "source": [
    "cv.add(x,y) # 250+10=260>255 donc donne le max ie 255"
   ]
  },
  {
   "cell_type": "code",
   "execution_count": 22,
   "id": "3c0a74fd",
   "metadata": {},
   "outputs": [
    {
     "data": {
      "text/plain": [
       "array([4], dtype=uint8)"
      ]
     },
     "execution_count": 22,
     "metadata": {},
     "output_type": "execute_result"
    }
   ],
   "source": [
    "x+y # 250+10 = 260 % 256 = 4"
   ]
  },
  {
   "cell_type": "markdown",
   "id": "161631a9",
   "metadata": {},
   "source": [
    "### Image Blending"
   ]
  },
  {
   "cell_type": "code",
   "execution_count": 25,
   "id": "7a31a35b",
   "metadata": {},
   "outputs": [],
   "source": [
    "img1 = cv.imread('raw_data/sourie.jpg')\n",
    "img2 = cv.imread('raw_data/gourde.jpg')\n",
    "dst = cv.addWeighted(img1,0.7,img2,0.3,0)\n",
    "cv.imshow('dst',dst)\n",
    "k = cv.waitKey(0)\n",
    "if k == ord('q'):\n",
    "    cv.destroyAllWindows()"
   ]
  },
  {
   "cell_type": "markdown",
   "id": "1f6803b0",
   "metadata": {},
   "source": [
    "### Bitwise Operations"
   ]
  },
  {
   "cell_type": "code",
   "execution_count": 2,
   "id": "1e52423c",
   "metadata": {},
   "outputs": [],
   "source": [
    "# Load two images\n",
    "img1 = cv.imread('raw_data/gourde.jpg')\n",
    "img2 = cv.imread('raw_data/opencv-logo.png')\n",
    "img2 = img2[22:140,98:193,:]\n",
    "\n",
    "# I want to put logo on top-left corner, So I create a ROI\n",
    "rows,cols,channels = img2.shape\n",
    "roi = img1[0:rows, 0:cols]\n",
    "\n",
    "# Now create a mask of logo and create its inverse mask also\n",
    "img2gray = cv.cvtColor(img2,cv.COLOR_BGR2GRAY)\n",
    "ret, mask = cv.threshold(img2gray, 250, 255, cv.THRESH_BINARY_INV)\n",
    "mask_inv = cv.bitwise_not(mask)\n",
    "\n",
    "# Now black-out the area of logo in ROI\n",
    "img1_bg = cv.bitwise_and(roi,roi,mask = mask_inv)\n",
    "\n",
    "# Take only region of logo from logo image.\n",
    "img2_fg = cv.bitwise_and(img2,img2,mask = mask)\n",
    "\n",
    "# Put logo in ROI and modify the main image\n",
    "dst = cv.add(img1_bg,img2_fg)\n",
    "img1[0:rows, 0:cols ] = dst\n",
    "\n",
    "cv.imshow('res',img1) \n",
    "k = cv.waitKey(0)\n",
    "if k == ord('q'):\n",
    "    cv.destroyAllWindows()"
   ]
  },
  {
   "cell_type": "markdown",
   "id": "b17feaf6",
   "metadata": {},
   "source": [
    "## Performance Measurement and Improvement Techniques"
   ]
  },
  {
   "cell_type": "markdown",
   "id": "7bcd0672",
   "metadata": {},
   "source": [
    "### Goal"
   ]
  },
  {
   "cell_type": "markdown",
   "id": "417d362d",
   "metadata": {},
   "source": [
    "So in this chapter, you will learn:\n",
    "\n",
    "-To measure the performance of your code.  \n",
    "-Some tips to improve the performance of your code.  \n",
    "-You will see these functions: cv.getTickCount, cv.getTickFrequency, etc."
   ]
  },
  {
   "cell_type": "markdown",
   "id": "b640402c",
   "metadata": {
    "heading_collapsed": true
   },
   "source": [
    "### Measuring performance with OpenCV"
   ]
  },
  {
   "cell_type": "code",
   "execution_count": 28,
   "id": "8983e7ca",
   "metadata": {
    "hidden": true
   },
   "outputs": [
    {
     "data": {
      "text/plain": [
       "0.002869096"
      ]
     },
     "execution_count": 28,
     "metadata": {},
     "output_type": "execute_result"
    }
   ],
   "source": [
    "e1 = cv.getTickCount()\n",
    "\n",
    "# your code execution\n",
    "img1 = cv.imread('raw_data/sourie.jpg')\n",
    "img2 = cv.imread('raw_data/gourde.jpg')\n",
    "dst = cv.addWeighted(img1,0.7,img2,0.3,0)\n",
    "\n",
    "e2 = cv.getTickCount()\n",
    "time = (e2 - e1)/ cv.getTickFrequency()\n",
    "time"
   ]
  },
  {
   "cell_type": "code",
   "execution_count": 30,
   "id": "c991e37a",
   "metadata": {
    "hidden": true
   },
   "outputs": [
    {
     "name": "stdout",
     "output_type": "stream",
     "text": [
      "0.137201457\n"
     ]
    }
   ],
   "source": [
    "img1 = cv.imread('raw_data/sourie.jpg')\n",
    "e1 = cv.getTickCount()\n",
    "for i in range(5,49,2):\n",
    "    img1 = cv.medianBlur(img1,i)\n",
    "e2 = cv.getTickCount()\n",
    "t = (e2 - e1)/cv.getTickFrequency()\n",
    "print( t )\n",
    "# Result I got is 0.521107655 seconds"
   ]
  },
  {
   "cell_type": "markdown",
   "id": "b93d91ff",
   "metadata": {
    "heading_collapsed": true
   },
   "source": [
    "### Default optimisation in OpenCV"
   ]
  },
  {
   "cell_type": "markdown",
   "id": "f82554f6",
   "metadata": {
    "hidden": true
   },
   "source": [
    "Many of the OpenCV functions are optimized using SSE2, AVX, etc. (https://www.techspot.com/article/2166-mmx-sse-avx-explained/) It contains the unoptimized code also. So if our system support these features, we should exploit them (almost all modern day processors support them). It is enabled by default while compiling. So OpenCV runs the optimized code if it is enabled, otherwise it runs the unoptimized code. You can use cv.useOptimized() to check if it is enabled/disabled and cv.setUseOptimized() to enable/disable it. Let's see a simple example."
   ]
  },
  {
   "cell_type": "code",
   "execution_count": 31,
   "id": "005d0990",
   "metadata": {
    "hidden": true
   },
   "outputs": [
    {
     "data": {
      "text/plain": [
       "True"
      ]
     },
     "execution_count": 31,
     "metadata": {},
     "output_type": "execute_result"
    }
   ],
   "source": [
    "cv.useOptimized()"
   ]
  },
  {
   "cell_type": "code",
   "execution_count": 46,
   "id": "afdd8e2e",
   "metadata": {
    "hidden": true
   },
   "outputs": [
    {
     "name": "stdout",
     "output_type": "stream",
     "text": [
      "5.48 ms ± 17.2 µs per loop (mean ± std. dev. of 7 runs, 100 loops each)\n"
     ]
    }
   ],
   "source": [
    "%timeit res = cv.medianBlur(img,49)"
   ]
  },
  {
   "cell_type": "code",
   "execution_count": 35,
   "id": "007e62bd",
   "metadata": {
    "hidden": true
   },
   "outputs": [],
   "source": [
    "cv.setUseOptimized(False)"
   ]
  },
  {
   "cell_type": "code",
   "execution_count": 37,
   "id": "88c86be9",
   "metadata": {
    "hidden": true
   },
   "outputs": [
    {
     "data": {
      "text/plain": [
       "False"
      ]
     },
     "execution_count": 37,
     "metadata": {},
     "output_type": "execute_result"
    }
   ],
   "source": [
    "cv.useOptimized()"
   ]
  },
  {
   "cell_type": "code",
   "execution_count": 40,
   "id": "174899f4",
   "metadata": {
    "hidden": true
   },
   "outputs": [
    {
     "name": "stdout",
     "output_type": "stream",
     "text": [
      "5.98 ms ± 149 µs per loop (mean ± std. dev. of 7 runs, 100 loops each)\n"
     ]
    }
   ],
   "source": [
    "%timeit res = cv.medianBlur(img,49)"
   ]
  },
  {
   "cell_type": "code",
   "execution_count": 43,
   "id": "feb59ebe",
   "metadata": {
    "hidden": true
   },
   "outputs": [],
   "source": [
    "cv.setUseOptimized(True)"
   ]
  },
  {
   "cell_type": "code",
   "execution_count": 44,
   "id": "eeb0fda7",
   "metadata": {
    "hidden": true
   },
   "outputs": [
    {
     "data": {
      "text/plain": [
       "True"
      ]
     },
     "execution_count": 44,
     "metadata": {},
     "output_type": "execute_result"
    }
   ],
   "source": [
    "cv.useOptimized()"
   ]
  },
  {
   "cell_type": "markdown",
   "id": "dcfa9f71",
   "metadata": {
    "hidden": true
   },
   "source": [
    "As you can see, optimized median filtering is2x faster than the unoptimized version. If you check its source, you can see that median filtering is SIMD optimized. So you can use this to enable optimization at the top of your code (remember it is enabled by default)."
   ]
  },
  {
   "cell_type": "markdown",
   "id": "7df76530",
   "metadata": {},
   "source": [
    "### Measuring performance in IPython "
   ]
  },
  {
   "cell_type": "markdown",
   "id": "818dcfd9",
   "metadata": {},
   "source": [
    "Sometimes you may need to compare the performance of two similar operations. IPython gives you a magic command timeit to perform this. It runs the code several times to get more accurate results. Once again, it is suitable to measuring single lines of code.\n",
    "\n",
    "For example, do you know which of the following addition operations is better, x = 5; y = x**2, x = 5; y = x*x, x = np.uint8([5]); y = x*x, or y = np.square(x)? We will find out with timeit in the IPython shell"
   ]
  },
  {
   "cell_type": "code",
   "execution_count": 47,
   "id": "3878855f",
   "metadata": {},
   "outputs": [],
   "source": [
    "x = 5"
   ]
  },
  {
   "cell_type": "code",
   "execution_count": 50,
   "id": "857b16d0",
   "metadata": {},
   "outputs": [
    {
     "name": "stdout",
     "output_type": "stream",
     "text": [
      "195 ns ± 2.04 ns per loop (mean ± std. dev. of 7 runs, 1,000,000 loops each)\n"
     ]
    }
   ],
   "source": [
    "%timeit y=x**2"
   ]
  },
  {
   "cell_type": "code",
   "execution_count": 51,
   "id": "05a6f1be",
   "metadata": {},
   "outputs": [
    {
     "name": "stdout",
     "output_type": "stream",
     "text": [
      "31.2 ns ± 1.49 ns per loop (mean ± std. dev. of 7 runs, 10,000,000 loops each)\n"
     ]
    }
   ],
   "source": [
    "%timeit y=x*x"
   ]
  },
  {
   "cell_type": "code",
   "execution_count": 54,
   "id": "52298883",
   "metadata": {},
   "outputs": [],
   "source": [
    "z = np.uint8([5])"
   ]
  },
  {
   "cell_type": "code",
   "execution_count": 55,
   "id": "9d91dada",
   "metadata": {},
   "outputs": [
    {
     "name": "stdout",
     "output_type": "stream",
     "text": [
      "385 ns ± 1.39 ns per loop (mean ± std. dev. of 7 runs, 1,000,000 loops each)\n"
     ]
    }
   ],
   "source": [
    "%timeit y=z*z"
   ]
  },
  {
   "cell_type": "code",
   "execution_count": 57,
   "id": "224208c5",
   "metadata": {},
   "outputs": [
    {
     "name": "stdout",
     "output_type": "stream",
     "text": [
      "288 ns ± 2.48 ns per loop (mean ± std. dev. of 7 runs, 1,000,000 loops each)\n"
     ]
    }
   ],
   "source": [
    " %timeit y=np.square(z)"
   ]
  },
  {
   "cell_type": "markdown",
   "id": "04974a8e",
   "metadata": {},
   "source": [
    "You can see that, x = 5 ; y = x*x is fastest and it is around 20x faster compared to Numpy. If you consider the array creation also, it may reach up to 100x faster. Cool, right? *(Numpy devs are working on this issue)*"
   ]
  },
  {
   "cell_type": "markdown",
   "id": "686005b5",
   "metadata": {},
   "source": [
    "**Note:**\n",
    "        Python scalar operations are faster than Numpy scalar operations. So for operations including one or two elements, Python scalar is better than Numpy arrays. Numpy has the advantage when the size of the array is a little bit bigger."
   ]
  },
  {
   "cell_type": "markdown",
   "id": "54a944c2",
   "metadata": {},
   "source": [
    "We will try one more example. This time, we will compare the performance of cv.countNonZero() and np.count_nonzero() for the same image"
   ]
  },
  {
   "cell_type": "code",
   "execution_count": 59,
   "id": "06ebfb8f",
   "metadata": {},
   "outputs": [],
   "source": [
    "img = cv.imread('raw_data/sourie.jpg')\n",
    "img2gray = cv.cvtColor(img,cv.COLOR_BGR2GRAY)"
   ]
  },
  {
   "cell_type": "code",
   "execution_count": 60,
   "id": "e35cd2a7",
   "metadata": {},
   "outputs": [
    {
     "name": "stdout",
     "output_type": "stream",
     "text": [
      "3.38 µs ± 22.1 ns per loop (mean ± std. dev. of 7 runs, 100,000 loops each)\n"
     ]
    }
   ],
   "source": [
    "%timeit z = cv.countNonZero(img2gray)"
   ]
  },
  {
   "cell_type": "code",
   "execution_count": 61,
   "id": "31345e55",
   "metadata": {},
   "outputs": [
    {
     "name": "stdout",
     "output_type": "stream",
     "text": [
      "13 µs ± 277 ns per loop (mean ± std. dev. of 7 runs, 100,000 loops each)\n"
     ]
    }
   ],
   "source": [
    "%timeit z = np.count_nonzero(img)"
   ]
  },
  {
   "cell_type": "markdown",
   "id": "6e884598",
   "metadata": {},
   "source": [
    "See, the OpenCV function is nearly 25x faster than the Numpy function."
   ]
  },
  {
   "cell_type": "markdown",
   "id": "487513bc",
   "metadata": {},
   "source": [
    "**Note:** Normally, OpenCV functions are faster than Numpy functions. So for same operation, OpenCV functions are preferred. But, there can be exceptions, especially when Numpy works with views instead of copies."
   ]
  },
  {
   "cell_type": "markdown",
   "id": "0c5dc660",
   "metadata": {},
   "source": [
    "### More IPython magic commands\n",
    "There are several other magic commands to measure performance, profiling, line profiling, memory measurement, and etc. They all are well documented. So only links to those docs are provided here. Interested readers are recommended to try them out."
   ]
  },
  {
   "cell_type": "markdown",
   "id": "e75f3d10",
   "metadata": {},
   "source": [
    "### Performance Optimization Techniques  \n",
    "\n",
    "\n",
    "There are several techniques and coding methods to exploit maximum performance of Python and Numpy. Only relevant ones are noted here and links are given to important sources. The main thing to be noted here is, first try to implement the algorithm in a simple manner. Once it is working, profile it, find the bottlenecks, and optimize them.  \n",
    "\n",
    "1. Avoid using loops in Python as much as possible, especially double/triple loops etc. They are inherently slow.\n",
    "2. Vectorize the algorithm/code to the maximum extent possible, because Numpy and OpenCV are optimized for vector operations.\n",
    "3. Exploit the cache coherence.\n",
    "4. Never make copies of an array unless it is necessary. Try to use views instead. Array copying is a costly operation.\n",
    "  \n",
    "If your code is still slow after doing all of these operations, or if the use of large loops is inevitable, use additional libraries like Cython to make it faster."
   ]
  },
  {
   "cell_type": "markdown",
   "id": "07d41837",
   "metadata": {},
   "source": [
    "### Additional Resources\n",
    "1. [Python Optimization Techniques](https://wiki.python.org/moin/PythonSpeed/PerformanceTips)\n",
    "2. Scipy Lecture Notes - [Advanced Numpy](http://scipy-lectures.org/advanced/advanced_numpy/index.html#advanced-numpy)\n",
    "3. [Timing and Profiling in IPython](https://pynash.org/2013/03/06/timing-and-profiling/)"
   ]
  },
  {
   "cell_type": "code",
   "execution_count": null,
   "id": "1d4da01b",
   "metadata": {},
   "outputs": [],
   "source": []
  }
 ],
 "metadata": {
  "kernelspec": {
   "display_name": "Python 3 (ipykernel)",
   "language": "python",
   "name": "python3"
  },
  "language_info": {
   "codemirror_mode": {
    "name": "ipython",
    "version": 3
   },
   "file_extension": ".py",
   "mimetype": "text/x-python",
   "name": "python",
   "nbconvert_exporter": "python",
   "pygments_lexer": "ipython3",
   "version": "3.10.6"
  },
  "toc": {
   "base_numbering": 1,
   "nav_menu": {},
   "number_sections": true,
   "sideBar": true,
   "skip_h1_title": false,
   "title_cell": "Table of Contents",
   "title_sidebar": "Contents",
   "toc_cell": false,
   "toc_position": {},
   "toc_section_display": true,
   "toc_window_display": false
  }
 },
 "nbformat": 4,
 "nbformat_minor": 5
}
